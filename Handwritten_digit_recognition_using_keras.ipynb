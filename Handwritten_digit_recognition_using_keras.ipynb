{
  "nbformat": 4,
  "nbformat_minor": 0,
  "metadata": {
    "colab": {
      "name": "Handwritten digit recognition using keras.ipynb",
      "version": "0.3.2",
      "provenance": [],
      "include_colab_link": true
    },
    "kernelspec": {
      "name": "python3",
      "display_name": "Python 3"
    },
    "accelerator": "GPU"
  },
  "cells": [
    {
      "cell_type": "markdown",
      "metadata": {
        "id": "view-in-github",
        "colab_type": "text"
      },
      "source": [
        "<a href=\"https://colab.research.google.com/github/Sripriya07/assignment-week-4/blob/master/Handwritten_digit_recognition_using_keras.ipynb\" target=\"_parent\"><img src=\"https://colab.research.google.com/assets/colab-badge.svg\" alt=\"Open In Colab\"/></a>"
      ]
    },
    {
      "cell_type": "code",
      "metadata": {
        "id": "JX18LOFhj9RD",
        "colab_type": "code",
        "colab": {}
      },
      "source": [
        "import numpy as np\n",
        "import matplotlib.pyplot as plt\n",
        "import tensorflow as tf\n",
        "import keras\n",
        "%matplotlib inline"
      ],
      "execution_count": 0,
      "outputs": []
    },
    {
      "cell_type": "code",
      "metadata": {
        "id": "sZMWfgtbF7FG",
        "colab_type": "code",
        "colab": {}
      },
      "source": [
        "from keras.layers import Dense,Activation\n",
        "from keras.models import Sequential\n",
        "from keras.utils import np_utils"
      ],
      "execution_count": 0,
      "outputs": []
    },
    {
      "cell_type": "code",
      "metadata": {
        "id": "L21ecrg8DSTu",
        "colab_type": "code",
        "colab": {}
      },
      "source": [
        "from keras.datasets import mnist\n",
        "\n",
        "(x_train, y_train), (x_test, y_test) = mnist.load_data()"
      ],
      "execution_count": 0,
      "outputs": []
    },
    {
      "cell_type": "code",
      "metadata": {
        "id": "ZEe9iOoQDly2",
        "colab_type": "code",
        "colab": {
          "base_uri": "https://localhost:8080/",
          "height": 50
        },
        "outputId": "f1c3efbb-c568-4b8b-c072-b7e53290b37a"
      },
      "source": [
        "print(x_train.shape,y_train.shape)\n",
        "print(x_test.shape,y_test.shape)"
      ],
      "execution_count": 85,
      "outputs": [
        {
          "output_type": "stream",
          "text": [
            "(60000, 28, 28) (60000,)\n",
            "(10000, 28, 28) (10000,)\n"
          ],
          "name": "stdout"
        }
      ]
    },
    {
      "cell_type": "code",
      "metadata": {
        "id": "CxiqifiNDnpU",
        "colab_type": "code",
        "colab": {
          "base_uri": "https://localhost:8080/",
          "height": 286
        },
        "outputId": "141b7411-3222-4cbc-c6e7-904973cf3346"
      },
      "source": [
        "plt.imshow(x_train[0],cmap='gray')"
      ],
      "execution_count": 86,
      "outputs": [
        {
          "output_type": "execute_result",
          "data": {
            "text/plain": [
              "<matplotlib.image.AxesImage at 0x7fa06486fb70>"
            ]
          },
          "metadata": {
            "tags": []
          },
          "execution_count": 86
        },
        {
          "output_type": "display_data",
          "data": {
            "image/png": "[encoded data removed]",
            "text/plain": [
              "<Figure size 432x288 with 1 Axes>"
            ]
          },
          "metadata": {
            "tags": []
          }
        }
      ]
    },
    {
      "cell_type": "code",
      "metadata": {
        "id": "g4adWvTjD3dg",
        "colab_type": "code",
        "colab": {}
      },
      "source": [
        "# Reshaping the array to 4-dims so that it can work with the Keras API\n",
        "x_train = x_train.reshape(x_train.shape[0],784)\n",
        "x_test = x_test.reshape(x_test.shape[0],784)"
      ],
      "execution_count": 0,
      "outputs": []
    },
    {
      "cell_type": "code",
      "metadata": {
        "id": "yoU4c01yEoCA",
        "colab_type": "code",
        "colab": {
          "base_uri": "https://localhost:8080/",
          "height": 34
        },
        "outputId": "2e42fdd8-0c0a-47d2-82a9-1138aa79c306"
      },
      "source": [
        "print(x_train.shape,x_test.shape)\n"
      ],
      "execution_count": 88,
      "outputs": [
        {
          "output_type": "stream",
          "text": [
            "(60000, 784) (10000, 784)\n"
          ],
          "name": "stdout"
        }
      ]
    },
    {
      "cell_type": "code",
      "metadata": {
        "id": "JjaTqpBaObS4",
        "colab_type": "code",
        "colab": {}
      },
      "source": [
        "x_train = x_train.astype(\"float32\")\n",
        "x_test = x_test.astype(\"float32\")\n",
        "x_train /= 255\n",
        "x_test /= 255\n"
      ],
      "execution_count": 0,
      "outputs": []
    },
    {
      "cell_type": "code",
      "metadata": {
        "id": "Jyc2sEgzEsUR",
        "colab_type": "code",
        "colab": {}
      },
      "source": [
        "y_train=np_utils.to_categorical(y_train,10)\n",
        "y_test=np_utils.to_categorical(y_test,10)"
      ],
      "execution_count": 0,
      "outputs": []
    },
    {
      "cell_type": "code",
      "metadata": {
        "id": "Xpb7cd6kF-4P",
        "colab_type": "code",
        "colab": {
          "base_uri": "https://localhost:8080/",
          "height": 34
        },
        "outputId": "1a11e4b6-06fa-4430-ba13-3ab2712101a3"
      },
      "source": [
        "print(y_train.shape,y_test.shape)"
      ],
      "execution_count": 91,
      "outputs": [
        {
          "output_type": "stream",
          "text": [
            "(60000, 10) (10000, 10)\n"
          ],
          "name": "stdout"
        }
      ]
    },
    {
      "cell_type": "code",
      "metadata": {
        "id": "60TGesNGGQbs",
        "colab_type": "code",
        "colab": {
          "base_uri": "https://localhost:8080/",
          "height": 336
        },
        "outputId": "81ab1007-ca94-44d6-9cc3-6dc5a1e47a62"
      },
      "source": [
        "model = Sequential()\n",
        "model.add(Dense(51, input_shape=(784,)))\n",
        "model.add(Activation(\"relu\"))\n",
        "\n",
        "model.add(Dense(25))\n",
        "model.add(Activation(\"relu\"))\n",
        "\n",
        "model.add(Dense(10))\n",
        "model.add(Activation(\"softmax\"))\n",
        "model.summary()"
      ],
      "execution_count": 141,
      "outputs": [
        {
          "output_type": "stream",
          "text": [
            "_________________________________________________________________\n",
            "Layer (type)                 Output Shape              Param #   \n",
            "=================================================================\n",
            "dense_22 (Dense)             (None, 51)                40035     \n",
            "_________________________________________________________________\n",
            "activation_22 (Activation)   (None, 51)                0         \n",
            "_________________________________________________________________\n",
            "dense_23 (Dense)             (None, 25)                1300      \n",
            "_________________________________________________________________\n",
            "activation_23 (Activation)   (None, 25)                0         \n",
            "_________________________________________________________________\n",
            "dense_24 (Dense)             (None, 10)                260       \n",
            "_________________________________________________________________\n",
            "activation_24 (Activation)   (None, 10)                0         \n",
            "=================================================================\n",
            "Total params: 41,595\n",
            "Trainable params: 41,595\n",
            "Non-trainable params: 0\n",
            "_________________________________________________________________\n"
          ],
          "name": "stdout"
        }
      ]
    },
    {
      "cell_type": "code",
      "metadata": {
        "id": "l9OGNSaSHXx9",
        "colab_type": "code",
        "colab": {}
      },
      "source": [
        "model.compile(optimizer='adam',\n",
        "              loss='categorical_crossentropy',          \n",
        "              metrics=['accuracy'])      "
      ],
      "execution_count": 0,
      "outputs": []
    },
    {
      "cell_type": "code",
      "metadata": {
        "id": "52qykdzALT6n",
        "colab_type": "code",
        "colab": {
          "base_uri": "https://localhost:8080/",
          "height": 756
        },
        "outputId": "4a8def3e-28f4-400f-80ba-5e9ad5099654"
      },
      "source": [
        "model.fit(x_train,y_train,\n",
        "          batch_size=16,\n",
        "          nb_epoch=20,\n",
        "          verbose=2,\n",
        "          validation_data=(x_test,y_test) )      "
      ],
      "execution_count": 144,
      "outputs": [
        {
          "output_type": "stream",
          "text": [
            "/usr/local/lib/python3.6/dist-packages/ipykernel_launcher.py:5: UserWarning: The `nb_epoch` argument in `fit` has been renamed `epochs`.\n",
            "  \"\"\"\n"
          ],
          "name": "stderr"
        },
        {
          "output_type": "stream",
          "text": [
            "Train on 60000 samples, validate on 10000 samples\n",
            "Epoch 1/20\n",
            " - 11s - loss: 0.1257 - acc: 0.9624 - val_loss: 0.1142 - val_acc: 0.9650\n",
            "Epoch 2/20\n",
            " - 11s - loss: 0.0951 - acc: 0.9706 - val_loss: 0.1059 - val_acc: 0.9691\n",
            "Epoch 3/20\n",
            " - 11s - loss: 0.0758 - acc: 0.9765 - val_loss: 0.1079 - val_acc: 0.9663\n",
            "Epoch 4/20\n",
            " - 11s - loss: 0.0648 - acc: 0.9793 - val_loss: 0.1074 - val_acc: 0.9696\n",
            "Epoch 5/20\n",
            " - 11s - loss: 0.0566 - acc: 0.9819 - val_loss: 0.1041 - val_acc: 0.9706\n",
            "Epoch 6/20\n",
            " - 11s - loss: 0.0490 - acc: 0.9840 - val_loss: 0.1018 - val_acc: 0.9720\n",
            "Epoch 7/20\n",
            " - 11s - loss: 0.0438 - acc: 0.9859 - val_loss: 0.0990 - val_acc: 0.9745\n",
            "Epoch 8/20\n",
            " - 11s - loss: 0.0411 - acc: 0.9869 - val_loss: 0.1047 - val_acc: 0.9731\n",
            "Epoch 9/20\n",
            " - 11s - loss: 0.0348 - acc: 0.9886 - val_loss: 0.1071 - val_acc: 0.9744\n",
            "Epoch 10/20\n",
            " - 11s - loss: 0.0325 - acc: 0.9892 - val_loss: 0.1139 - val_acc: 0.9706\n",
            "Epoch 11/20\n",
            " - 11s - loss: 0.0294 - acc: 0.9904 - val_loss: 0.1368 - val_acc: 0.9683\n",
            "Epoch 12/20\n",
            " - 11s - loss: 0.0271 - acc: 0.9910 - val_loss: 0.1235 - val_acc: 0.9727\n",
            "Epoch 13/20\n",
            " - 11s - loss: 0.0258 - acc: 0.9918 - val_loss: 0.1161 - val_acc: 0.9737\n",
            "Epoch 14/20\n",
            " - 11s - loss: 0.0240 - acc: 0.9922 - val_loss: 0.1572 - val_acc: 0.9667\n",
            "Epoch 15/20\n",
            " - 11s - loss: 0.0235 - acc: 0.9919 - val_loss: 0.1475 - val_acc: 0.9696\n",
            "Epoch 16/20\n",
            " - 11s - loss: 0.0206 - acc: 0.9932 - val_loss: 0.1301 - val_acc: 0.9733\n",
            "Epoch 17/20\n",
            " - 11s - loss: 0.0182 - acc: 0.9938 - val_loss: 0.1444 - val_acc: 0.9715\n",
            "Epoch 18/20\n",
            " - 11s - loss: 0.0208 - acc: 0.9932 - val_loss: 0.1497 - val_acc: 0.9716\n",
            "Epoch 19/20\n",
            " - 12s - loss: 0.0182 - acc: 0.9940 - val_loss: 0.1454 - val_acc: 0.9735\n",
            "Epoch 20/20\n",
            " - 12s - loss: 0.0163 - acc: 0.9949 - val_loss: 0.1498 - val_acc: 0.9712\n"
          ],
          "name": "stdout"
        },
        {
          "output_type": "execute_result",
          "data": {
            "text/plain": [
              "<keras.callbacks.History at 0x7f9ff77259b0>"
            ]
          },
          "metadata": {
            "tags": []
          },
          "execution_count": 144
        }
      ]
    },
    {
      "cell_type": "code",
      "metadata": {
        "id": "m9qVJnmLLe_b",
        "colab_type": "code",
        "colab": {
          "base_uri": "https://localhost:8080/",
          "height": 50
        },
        "outputId": "4c7d1783-3c00-4d10-d842-7589caf05026"
      },
      "source": [
        "model.evaluate(x_test, y_test)"
      ],
      "execution_count": 146,
      "outputs": [
        {
          "output_type": "stream",
          "text": [
            "10000/10000 [==============================] - 0s 39us/step\n"
          ],
          "name": "stdout"
        },
        {
          "output_type": "execute_result",
          "data": {
            "text/plain": [
              "[0.14982286275983933, 0.9712]"
            ]
          },
          "metadata": {
            "tags": []
          },
          "execution_count": 146
        }
      ]
    },
    {
      "cell_type": "code",
      "metadata": {
        "id": "fiveayhiQHM7",
        "colab_type": "code",
        "colab": {
          "base_uri": "https://localhost:8080/",
          "height": 286
        },
        "outputId": "19ab1a4f-40e4-4bda-9070-cda77d28b696"
      },
      "source": [
        "image_index = 4446\n",
        "plt.imshow(x_test[image_index].reshape(28, 28),cmap='Greys')\n",
        "pred = model.predict(x_test[image_index].reshape(1,784))\n",
        "print('The predicted number is : ' ,pred.argmax())"
      ],
      "execution_count": 147,
      "outputs": [
        {
          "output_type": "stream",
          "text": [
            "The predicted number is :  6\n"
          ],
          "name": "stdout"
        },
        {
          "output_type": "display_data",
          "data": {
            "image/png": "[encoded data removed]",
            "text/plain": [
              "<Figure size 432x288 with 1 Axes>"
            ]
          },
          "metadata": {
            "tags": []
          }
        }
      ]
    },
    {
      "cell_type": "code",
      "metadata": {
        "id": "-D0ppfWyXo27",
        "colab_type": "code",
        "colab": {}
      },
      "source": [
        "from PIL import Image\n"
      ],
      "execution_count": 0,
      "outputs": []
    },
    {
      "cell_type": "code",
      "metadata": {
        "id": "WZ0S7WGlQK63",
        "colab_type": "code",
        "colab": {
          "base_uri": "https://localhost:8080/",
          "height": 386
        },
        "outputId": "cef092d6-8236-4cc0-de5c-7a00361fe0e8"
      },
      "source": [
        "img = Image.open('seven.png')\n",
        "img = np.resize(img, (28,28))\n",
        "\n",
        "im2arr = np.array(img)\n",
        "im2arr = im2arr.reshape(1,784)\n",
        "y_pred = model.predict_classes(im2arr)\n",
        "print(y_pred)\n",
        "Image.open('seven.png')"
      ],
      "execution_count": 153,
      "outputs": [
        {
          "output_type": "stream",
          "text": [
            "[7]\n"
          ],
          "name": "stdout"
        },
        {
          "output_type": "execute_result",
          "data": {
            "image/png": "[encoded data removed]",
            "text/plain": [
              "<PIL.PngImagePlugin.PngImageFile image mode=RGB size=302x352 at 0x7FA00A053550>"
            ]
          },
          "metadata": {
            "tags": []
          },
          "execution_count": 153
        }
      ]
    },
    {
      "cell_type": "code",
      "metadata": {
        "id": "Tx8JyHvwWSe1",
        "colab_type": "code",
        "colab": {}
      },
      "source": [
        ""
      ],
      "execution_count": 0,
      "outputs": []
    },
    {
      "cell_type": "code",
      "metadata": {
        "id": "XNtodiy1aLG7",
        "colab_type": "code",
        "colab": {}
      },
      "source": [
        ""
      ],
      "execution_count": 0,
      "outputs": []
    }
  ]
}